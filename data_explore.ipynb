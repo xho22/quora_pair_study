{
 "cells": [
  {
   "cell_type": "code",
   "execution_count": 51,
   "metadata": {},
   "outputs": [],
   "source": [
    "import numpy as np\n",
    "import pandas as pd\n",
    "import matplotlib.pyplot as plt\n",
    "\n",
    "def flatten(x):\n",
    "    return [y for l in x for y in flatten(l)] if type(x) is list else [x]"
   ]
  },
  {
   "cell_type": "code",
   "execution_count": 2,
   "metadata": {},
   "outputs": [
    {
     "name": "stdout",
     "output_type": "stream",
     "text": [
      "训练集数据量 404267\n",
      "测试集数据量 2345796\n"
     ]
    }
   ],
   "source": [
    "train_df = pd.read_csv('train.csv')\n",
    "test_df = pd.read_csv('test.csv')\n",
    "train_df_length = len(train_df)\n",
    "test_df_length = len(test_df)\n",
    "\n",
    "print(\"训练集数据量\", str(train_df_length))\n",
    "print(\"测试集数据量\", str(test_df_length))"
   ]
  },
  {
   "cell_type": "code",
   "execution_count": 3,
   "metadata": {},
   "outputs": [
    {
     "name": "stdout",
     "output_type": "stream",
     "text": [
      "其中相似的句子数据量 149262\n",
      "占比 36.92\n",
      "其中不相似的句子数据量 255005\n",
      "占比 63.08\n"
     ]
    }
   ],
   "source": [
    "positive_df = train_df[train_df['is_duplicate'] == 1]\n",
    "positive_df_length = len(positive_df)\n",
    "\n",
    "print(\"其中相似的句子数据量\", str(positive_df_length))\n",
    "print(\"占比 %.2f\" % (positive_df_length/train_df_length*100))\n",
    "print(\"其中不相似的句子数据量\", str(train_df_length - positive_df_length))\n",
    "print(\"占比 %.2f\" % (100 - positive_df_length/train_df_length*100))"
   ]
  },
  {
   "cell_type": "code",
   "execution_count": 13,
   "metadata": {},
   "outputs": [
    {
     "name": "stdout",
     "output_type": "stream",
     "text": [
      "训练集词表数量:95588\n",
      "测试集词表数量:101312\n",
      "测试集中有多少词汇不在训练集里:41448\n"
     ]
    }
   ],
   "source": [
    "from keras.preprocessing.text import Tokenizer\n",
    "\n",
    "train_df = pd.read_csv('train.csv')\n",
    "test_df = pd.read_csv('test.csv')\n",
    "train_df[\"question1\"] = train_df[\"question1\"].fillna(\"\")\n",
    "train_df[\"question2\"] = train_df[\"question2\"].fillna(\"\")\n",
    "test_df[\"question1\"] = test_df[\"question1\"].fillna(\"\")\n",
    "test_df[\"question2\"] = test_df[\"question2\"].fillna(\"\")\n",
    "\n",
    "texts_1 = train_df[\"question1\"].tolist()\n",
    "texts_2 = train_df[\"question2\"].tolist()\n",
    "test_texts_1 = test_df[\"question1\"].tolist()\n",
    "test_texts_2 = test_df[\"question2\"].tolist()\n",
    "\n",
    "tokenizer = Tokenizer(num_words=200000)\n",
    "tokenizer.fit_on_texts(texts_1 + texts_2 + test_texts_1 + test_texts_2)\n",
    "\n",
    "sequences_1 = tokenizer.texts_to_sequences(texts_1)\n",
    "sequences_2 = tokenizer.texts_to_sequences(texts_2)\n",
    "test_sequences_1 = tokenizer.texts_to_sequences(test_texts_1)\n",
    "test_sequences_2 = tokenizer.texts_to_sequences(test_texts_2)\n",
    "\n",
    "# 句子 铺平成 词语\n",
    "word_sequences_1 = set(flatten(sequences_1))\n",
    "word_sequences_2 = set(flatten(sequences_2))\n",
    "word_test_sequences_1 = set(flatten(test_sequences_1))\n",
    "word_test_sequences_2 = set(flatten(test_sequences_2))\n",
    "\n",
    "print(\"训练集词表数量:%d\" % (len(word_sequences_1.union(word_sequences_2))))\n",
    "print(\"测试集词表数量:%d\" % (len(word_test_sequences_1.union(word_test_sequences_2))))\n",
    "print(\"测试集中有多少词汇不在训练集里:%d\" % (len(word_test_sequences_1.union(word_test_sequences_2) - word_sequences_1.union(word_sequences_2))))\n",
    "\n",
    "\n"
   ]
  },
  {
   "cell_type": "code",
   "execution_count": 14,
   "metadata": {},
   "outputs": [
    {
     "name": "stdout",
     "output_type": "stream",
     "text": [
      "训练集句子平均长度:11.156341\n",
      "测试集句子平均长度:11.123814\n"
     ]
    }
   ],
   "source": [
    "train_sequences_lengths = [len(words) for words in sequences_1 + sequences_2]\n",
    "train_sequences_avg = sum(train_sequences_lengths)/len(train_sequences_lengths)\n",
    "test_sequences_lengths = [len(words) for words in test_sequences_1 + test_sequences_2]\n",
    "test_sequences_avg = sum(test_sequences_lengths)/len(test_sequences_lengths)\n",
    "print(\"训练集句子平均长度:%f\" % train_sequences_avg)\n",
    "print(\"测试集句子平均长度:%f\" % test_sequences_avg)"
   ]
  },
  {
   "cell_type": "code",
   "execution_count": 93,
   "metadata": {},
   "outputs": [
    {
     "name": "stdout",
     "output_type": "stream",
     "text": [
      "句子出现频次 与 is_duplicate 的线性相关性\n"
     ]
    },
    {
     "data": {
      "text/plain": [
       "<matplotlib.axes._subplots.AxesSubplot at 0x133f3d0b8>"
      ]
     },
     "execution_count": 93,
     "metadata": {},
     "output_type": "execute_result"
    },
    {
     "data": {
      "image/png": "[encoded data removed]",
      "text/plain": [
       "<Figure size 432x288 with 1 Axes>"
      ]
     },
     "metadata": {
      "needs_background": "light"
     },
     "output_type": "display_data"
    }
   ],
   "source": [
    "train_df = pd.read_csv('train.csv')\n",
    "\n",
    "# 把所有qid对应的is_duplicate 关系tuple求出来\n",
    "qid1_tp = [tuple(x) for x in train_df[['qid1','is_duplicate']].values]\n",
    "qid2_tp = [tuple(x) for x in train_df[['qid2','is_duplicate']].values]\n",
    "qid_tp = qid1_tp + qid2_tp\n",
    "\n",
    "qid_is_duplicate_df = pd.DataFrame(qid_tp, columns=['qid', 'is_duplicate'])\n",
    "\n",
    "# 求出 相同问题个数 与 平均是否重复的值\n",
    "mean_array = qid_is_duplicate_df.groupby(['qid']).mean().values.ravel()\n",
    "count_array = qid_is_duplicate_df.groupby(['qid']).count().values.ravel()\n",
    "count_mean_df = pd.DataFrame({'count': count_array, 'mean': mean_array}, columns=['count', 'mean'])\n",
    "\n",
    "count_mean_statistics_df = count_mean_df.groupby(['count']).mean()\n",
    "mean_array2 = count_mean_statistics_df['mean'].tolist()\n",
    "count_array2 = count_mean_statistics_df.index.tolist()\n",
    "count_mean_df2 = pd.DataFrame({'same_sentence_count': count_array2, 'is_duplicate_mean': mean_array2})\n",
    "\n",
    "print(\"句子出现频次 与 is_duplicate 的线性相关性\")\n",
    "count_mean_df2.plot('same_sentence_count', 'is_duplicate_mean')"
   ]
  },
  {
   "cell_type": "code",
   "execution_count": null,
   "metadata": {},
   "outputs": [],
   "source": []
  },
  {
   "cell_type": "code",
   "execution_count": null,
   "metadata": {},
   "outputs": [],
   "source": []
  }
 ],
 "metadata": {
  "kernelspec": {
   "display_name": "Python 3",
   "language": "python",
   "name": "python3"
  },
  "language_info": {
   "codemirror_mode": {
    "name": "ipython",
    "version": 3
   },
   "file_extension": ".py",
   "mimetype": "text/x-python",
   "name": "python",
   "nbconvert_exporter": "python",
   "pygments_lexer": "ipython3",
   "version": "3.6.8"
  }
 },
 "nbformat": 4,
 "nbformat_minor": 2
}
